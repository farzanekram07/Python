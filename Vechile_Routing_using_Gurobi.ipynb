{
  "nbformat": 4,
  "nbformat_minor": 0,
  "metadata": {
    "colab": {
      "name": "Vechile Routing using Gurobi",
      "provenance": [],
      "authorship_tag": "ABX9TyPB22OrNhG+ujimMdNp8A8I",
      "include_colab_link": true
    },
    "kernelspec": {
      "name": "python3",
      "display_name": "Python 3"
    },
    "language_info": {
      "name": "python"
    }
  },
  "cells": [
    {
      "cell_type": "markdown",
      "metadata": {
        "id": "view-in-github",
        "colab_type": "text"
      },
      "source": [
        "<a href=\"https://colab.research.google.com/github/farzanekram07/Python/blob/main/Vechile_Routing_using_Gurobi.ipynb\" target=\"_parent\"><img src=\"https://colab.research.google.com/assets/colab-badge.svg\" alt=\"Open In Colab\"/></a>"
      ]
    },
    {
      "cell_type": "markdown",
      "source": [
        "#VECHILE ROUTING PROBLEM"
      ],
      "metadata": {
        "id": "MnlEEDkgq7-P"
      }
    },
    {
      "cell_type": "code",
      "execution_count": 1,
      "metadata": {
        "id": "uDujzbZb0gPE"
      },
      "outputs": [],
      "source": [
        "import numpy as np \n",
        "import matplotlib.pyplot as plt\n"
      ]
    },
    {
      "cell_type": "code",
      "source": [
        "rnd = np.random\n",
        "rnd.seed(0)"
      ],
      "metadata": {
        "id": "0ykjnlF9kMk4"
      },
      "execution_count": 2,
      "outputs": []
    },
    {
      "cell_type": "code",
      "source": [
        "n = 10\n",
        "xc = rnd.rand(n+1)*200\n",
        "yc = rnd.rand(n+1)*100"
      ],
      "metadata": {
        "id": "uVtqydydkexP"
      },
      "execution_count": 3,
      "outputs": []
    },
    {
      "cell_type": "code",
      "source": [
        "plt.plot(xc[0],yc[0],c='r',marker ='s')\n",
        "plt.scatter(xc[1:],yc[1:], c='b')"
      ],
      "metadata": {
        "colab": {
          "base_uri": "https://localhost:8080/",
          "height": 282
        },
        "id": "lCdBRehWkxPQ",
        "outputId": "82b72507-cc6f-4f27-d855-fdf58ed8653a"
      },
      "execution_count": 28,
      "outputs": [
        {
          "output_type": "execute_result",
          "data": {
            "text/plain": [
              "<matplotlib.collections.PathCollection at 0x7ff01f599dd0>"
            ]
          },
          "metadata": {},
          "execution_count": 28
        },
        {
          "output_type": "display_data",
          "data": {
            "text/plain": [
              "<Figure size 432x288 with 1 Axes>"
            ],
            "image/png": "[encoded data removed]"
          },
          "metadata": {
            "needs_background": "light"
          }
        }
      ]
    },
    {
      "cell_type": "code",
      "source": [
        "N = [i for i in range(1,n+1)]\n",
        "V = [0] +N\n",
        "A = [(i,j) for i in V for j in V if i!= j]\n",
        "c = {(i,j): np.hypot(xc[i]- xc[j],yc[i]-yc[j]) for i, j in A}\n",
        "Q = 20\n",
        "q = {i: rnd.randint(1,10) for i in N}"
      ],
      "metadata": {
        "id": "rUYYq91plEB9"
      },
      "execution_count": 5,
      "outputs": []
    },
    {
      "cell_type": "code",
      "source": [
        "q"
      ],
      "metadata": {
        "colab": {
          "base_uri": "https://localhost:8080/"
        },
        "id": "J6UVF3aelocB",
        "outputId": "1ac2acd3-5380-4130-fcf2-1cf27492028d"
      },
      "execution_count": 6,
      "outputs": [
        {
          "output_type": "execute_result",
          "data": {
            "text/plain": [
              "{1: 4, 2: 4, 3: 4, 4: 8, 5: 1, 6: 2, 7: 1, 8: 5, 9: 8, 10: 4}"
            ]
          },
          "metadata": {},
          "execution_count": 6
        }
      ]
    },
    {
      "cell_type": "code",
      "source": [
        "from gurobipy import Model, GRB, quicksum"
      ],
      "metadata": {
        "id": "zNL4PnsBm4_k"
      },
      "execution_count": 9,
      "outputs": []
    },
    {
      "cell_type": "code",
      "source": [
        "pip install gurobipy\n"
      ],
      "metadata": {
        "colab": {
          "base_uri": "https://localhost:8080/"
        },
        "id": "X-qaRit-nR61",
        "outputId": "ebe957c2-701e-4300-ca14-03ec42dbabd6"
      },
      "execution_count": 8,
      "outputs": [
        {
          "output_type": "stream",
          "name": "stdout",
          "text": [
            "Looking in indexes: https://pypi.org/simple, https://us-python.pkg.dev/colab-wheels/public/simple/\n",
            "Collecting gurobipy\n",
            "  Downloading gurobipy-9.5.2-cp37-cp37m-manylinux2014_x86_64.whl (11.5 MB)\n",
            "\u001b[K     |████████████████████████████████| 11.5 MB 4.6 MB/s \n",
            "\u001b[?25hInstalling collected packages: gurobipy\n",
            "Successfully installed gurobipy-9.5.2\n"
          ]
        }
      ]
    },
    {
      "cell_type": "code",
      "source": [
        "mdl = Model('CVRP')"
      ],
      "metadata": {
        "colab": {
          "base_uri": "https://localhost:8080/"
        },
        "id": "CX1Nc6B0nVrw",
        "outputId": "0d709f46-f4ef-44f1-f8e0-8934bfc9ed8d"
      },
      "execution_count": 10,
      "outputs": [
        {
          "output_type": "stream",
          "name": "stdout",
          "text": [
            "Restricted license - for non-production use only - expires 2023-10-25\n"
          ]
        }
      ]
    },
    {
      "cell_type": "code",
      "source": [
        "x = mdl.addVars(A, vtype= GRB.BINARY)\n",
        "u = mdl.addVars(N, vtype= GRB.CONTINUOUS)"
      ],
      "metadata": {
        "id": "vrPAmpzknf6v"
      },
      "execution_count": 11,
      "outputs": []
    },
    {
      "cell_type": "code",
      "source": [
        "mdl.modelSense = GRB.MINIMIZE\n",
        "mdl.setObjective(quicksum(x[i,j]*c[i,j] for i,j in A ))"
      ],
      "metadata": {
        "id": "qVlc3Lh-n7w7"
      },
      "execution_count": 12,
      "outputs": []
    },
    {
      "cell_type": "code",
      "source": [
        "mdl.addConstrs(quicksum(x[i,j] for j in V if j!= i)==1 for i in N);\n",
        "mdl.addConstrs(quicksum(x[i,j] for i in V if i!= j)==1 for j in N);\n",
        "mdl.addConstrs((x[i,j]==1) >> (u[i]+q[i]==u[j]) for i,j in A if i!= 0 and j!=0);\n",
        "mdl.addConstrs(u[i]>=q[i] for i in N);\n",
        "mdl.addConstrs(u[i]<=Q for i in N);"
      ],
      "metadata": {
        "id": "fr99oUbkoTLC"
      },
      "execution_count": 18,
      "outputs": []
    },
    {
      "cell_type": "code",
      "source": [
        "mdl.optimize()"
      ],
      "metadata": {
        "colab": {
          "base_uri": "https://localhost:8080/"
        },
        "id": "1CzvYI1eokPy",
        "outputId": "1674beb3-a968-48ad-e801-3e5c5f6e3053"
      },
      "execution_count": 19,
      "outputs": [
        {
          "output_type": "stream",
          "name": "stdout",
          "text": [
            "Gurobi Optimizer version 9.5.2 build v9.5.2rc0 (linux64)\n",
            "Thread count: 1 physical cores, 2 logical processors, using up to 2 threads\n",
            "Optimize a model with 90 rows, 120 columns and 720 nonzeros\n",
            "Model fingerprint: 0xc96d604d\n",
            "Model has 90 general constraints\n",
            "Variable types: 10 continuous, 110 integer (110 binary)\n",
            "Coefficient statistics:\n",
            "  Matrix range     [1e+00, 1e+00]\n",
            "  Objective range  [2e+01, 1e+02]\n",
            "  Bounds range     [1e+00, 1e+00]\n",
            "  RHS range        [1e+00, 2e+01]\n",
            "  GenCon rhs range [1e+00, 8e+00]\n",
            "  GenCon coe range [1e+00, 1e+00]\n",
            "Presolve added 128 rows and 12 columns\n",
            "Presolve time: 0.06s\n",
            "Presolved: 218 rows, 132 columns, 1301 nonzeros\n",
            "Variable types: 42 continuous, 90 integer (90 binary)\n",
            "Found heuristic solution: objective 885.6836867\n",
            "\n",
            "Root relaxation: objective 3.068464e+02, 44 iterations, 0.00 seconds (0.00 work units)\n",
            "\n",
            "    Nodes    |    Current Node    |     Objective Bounds      |     Work\n",
            " Expl Unexpl |  Obj  Depth IntInf | Incumbent    BestBd   Gap | It/Node Time\n",
            "\n",
            "     0     0  306.84636    0   23  885.68369  306.84636  65.4%     -    0s\n",
            "H    0     0                     829.4117488  306.84636  63.0%     -    0s\n",
            "H    0     0                     610.0123118  306.84636  49.7%     -    0s\n",
            "H    0     0                     476.1647238  306.84636  35.6%     -    0s\n",
            "     0     0  328.66127    0   24  476.16472  328.66127  31.0%     -    0s\n",
            "     0     0  329.98012    0   24  476.16472  329.98012  30.7%     -    0s\n",
            "     0     0  338.14868    0   27  476.16472  338.14868  29.0%     -    0s\n",
            "     0     0  339.66799    0   27  476.16472  339.66799  28.7%     -    0s\n",
            "     0     0  341.40516    0   27  476.16472  341.40516  28.3%     -    0s\n",
            "     0     0  344.06072    0   24  476.16472  344.06072  27.7%     -    0s\n",
            "     0     0  344.06834    0   26  476.16472  344.06834  27.7%     -    0s\n",
            "     0     0  347.88108    0   24  476.16472  347.88108  26.9%     -    0s\n",
            "     0     0  347.88108    0   23  476.16472  347.88108  26.9%     -    0s\n",
            "     0     0  347.88108    0   23  476.16472  347.88108  26.9%     -    0s\n",
            "     0     0  347.88108    0   23  476.16472  347.88108  26.9%     -    0s\n",
            "     0     0  347.88108    0   22  476.16472  347.88108  26.9%     -    0s\n",
            "     0     0  347.88108    0   22  476.16472  347.88108  26.9%     -    0s\n",
            "     0     2  348.06349    0   22  476.16472  348.06349  26.9%     -    0s\n",
            "H    9     9                     457.9798952  348.06349  24.0%  13.1    0s\n",
            "*  338    48               7     455.9147547  394.69014  13.4%  10.9    0s\n",
            "\n",
            "Cutting planes:\n",
            "  Learned: 1\n",
            "  Gomory: 8\n",
            "  Cover: 7\n",
            "  Implied bound: 8\n",
            "  MIR: 4\n",
            "  GUB cover: 2\n",
            "  Mod-K: 2\n",
            "  Relax-and-lift: 4\n",
            "\n",
            "Explored 803 nodes (8538 simplex iterations) in 1.19 seconds (0.22 work units)\n",
            "Thread count was 2 (of 2 available processors)\n",
            "\n",
            "Solution count 6: 455.915 457.98 476.165 ... 885.684\n",
            "\n",
            "Optimal solution found (tolerance 1.00e-04)\n",
            "Best objective 4.559147547435e+02, best bound 4.559147547435e+02, gap 0.0000%\n"
          ]
        }
      ]
    },
    {
      "cell_type": "code",
      "source": [
        "active_arcs = [a for a in A if x[a].x>0.99]"
      ],
      "metadata": {
        "id": "UiTMx93yp8Dr"
      },
      "execution_count": 21,
      "outputs": []
    },
    {
      "cell_type": "code",
      "source": [
        "active_arcs"
      ],
      "metadata": {
        "colab": {
          "base_uri": "https://localhost:8080/"
        },
        "id": "cFOrBt04qJvk",
        "outputId": "2c2cd1e2-0d92-4657-a9f2-fa536c4407f3"
      },
      "execution_count": 22,
      "outputs": [
        {
          "output_type": "execute_result",
          "data": {
            "text/plain": [
              "[(0, 2),\n",
              " (0, 5),\n",
              " (1, 0),\n",
              " (2, 10),\n",
              " (3, 4),\n",
              " (4, 6),\n",
              " (5, 3),\n",
              " (6, 9),\n",
              " (7, 1),\n",
              " (8, 7),\n",
              " (9, 0),\n",
              " (10, 8)]"
            ]
          },
          "metadata": {},
          "execution_count": 22
        }
      ]
    },
    {
      "cell_type": "code",
      "source": [
        "plt.plot(xc[0],yc[0],c='r',marker ='s')\n",
        "plt.scatter(xc[1:],yc[1:],c='b')\n",
        "for i,j in active_arcs:\n",
        "  plt.plot([xc[i], xc[j]],[yc[i],yc[j]], c='g', zorder = 0)"
      ],
      "metadata": {
        "colab": {
          "base_uri": "https://localhost:8080/",
          "height": 265
        },
        "id": "KRbk1ohyqZCs",
        "outputId": "45a87fc0-1cf0-4da1-9810-a0cf30b770fc"
      },
      "execution_count": 26,
      "outputs": [
        {
          "output_type": "display_data",
          "data": {
            "text/plain": [
              "<Figure size 432x288 with 1 Axes>"
            ],
            "image/png": "[encoded data removed]"
          },
          "metadata": {
            "needs_background": "light"
          }
        }
      ]
    },
    {
      "cell_type": "code",
      "source": [
        ""
      ],
      "metadata": {
        "id": "tRjfNStRrJlU"
      },
      "execution_count": null,
      "outputs": []
    }
  ]
}